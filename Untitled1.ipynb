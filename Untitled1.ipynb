{
 "cells": [
  {
   "cell_type": "code",
   "execution_count": 4,
   "metadata": {},
   "outputs": [],
   "source": [
    "import numpy as np"
   ]
  },
  {
   "cell_type": "code",
   "execution_count": 11,
   "metadata": {},
   "outputs": [],
   "source": [
    "a=np.zeros((2,3,4))"
   ]
  },
  {
   "cell_type": "code",
   "execution_count": 13,
   "metadata": {},
   "outputs": [
    {
     "data": {
      "text/plain": [
       "array([[[0., 0., 0., 0.],\n",
       "        [0., 0., 0., 0.],\n",
       "        [0., 0., 0., 0.]],\n",
       "\n",
       "       [[0., 0., 0., 0.],\n",
       "        [0., 0., 0., 0.],\n",
       "        [0., 0., 0., 0.]]])"
      ]
     },
     "execution_count": 13,
     "metadata": {},
     "output_type": "execute_result"
    }
   ],
   "source": [
    "a"
   ]
  },
  {
   "cell_type": "code",
   "execution_count": 15,
   "metadata": {},
   "outputs": [],
   "source": [
    "a=np.ones((2,3,4))"
   ]
  },
  {
   "cell_type": "code",
   "execution_count": 17,
   "metadata": {},
   "outputs": [
    {
     "data": {
      "text/plain": [
       "array([[[1., 1., 1., 1.],\n",
       "        [1., 1., 1., 1.],\n",
       "        [1., 1., 1., 1.]],\n",
       "\n",
       "       [[1., 1., 1., 1.],\n",
       "        [1., 1., 1., 1.],\n",
       "        [1., 1., 1., 1.]]])"
      ]
     },
     "execution_count": 17,
     "metadata": {},
     "output_type": "execute_result"
    }
   ],
   "source": [
    "a"
   ]
  },
  {
   "cell_type": "code",
   "execution_count": 19,
   "metadata": {},
   "outputs": [],
   "source": [
    "b=np.arange(0,1000,1)"
   ]
  },
  {
   "cell_type": "code",
   "execution_count": 21,
   "metadata": {},
   "outputs": [
    {
     "data": {
      "text/plain": [
       "array([  0,   1,   2,   3,   4,   5,   6,   7,   8,   9,  10,  11,  12,\n",
       "        13,  14,  15,  16,  17,  18,  19,  20,  21,  22,  23,  24,  25,\n",
       "        26,  27,  28,  29,  30,  31,  32,  33,  34,  35,  36,  37,  38,\n",
       "        39,  40,  41,  42,  43,  44,  45,  46,  47,  48,  49,  50,  51,\n",
       "        52,  53,  54,  55,  56,  57,  58,  59,  60,  61,  62,  63,  64,\n",
       "        65,  66,  67,  68,  69,  70,  71,  72,  73,  74,  75,  76,  77,\n",
       "        78,  79,  80,  81,  82,  83,  84,  85,  86,  87,  88,  89,  90,\n",
       "        91,  92,  93,  94,  95,  96,  97,  98,  99, 100, 101, 102, 103,\n",
       "       104, 105, 106, 107, 108, 109, 110, 111, 112, 113, 114, 115, 116,\n",
       "       117, 118, 119, 120, 121, 122, 123, 124, 125, 126, 127, 128, 129,\n",
       "       130, 131, 132, 133, 134, 135, 136, 137, 138, 139, 140, 141, 142,\n",
       "       143, 144, 145, 146, 147, 148, 149, 150, 151, 152, 153, 154, 155,\n",
       "       156, 157, 158, 159, 160, 161, 162, 163, 164, 165, 166, 167, 168,\n",
       "       169, 170, 171, 172, 173, 174, 175, 176, 177, 178, 179, 180, 181,\n",
       "       182, 183, 184, 185, 186, 187, 188, 189, 190, 191, 192, 193, 194,\n",
       "       195, 196, 197, 198, 199, 200, 201, 202, 203, 204, 205, 206, 207,\n",
       "       208, 209, 210, 211, 212, 213, 214, 215, 216, 217, 218, 219, 220,\n",
       "       221, 222, 223, 224, 225, 226, 227, 228, 229, 230, 231, 232, 233,\n",
       "       234, 235, 236, 237, 238, 239, 240, 241, 242, 243, 244, 245, 246,\n",
       "       247, 248, 249, 250, 251, 252, 253, 254, 255, 256, 257, 258, 259,\n",
       "       260, 261, 262, 263, 264, 265, 266, 267, 268, 269, 270, 271, 272,\n",
       "       273, 274, 275, 276, 277, 278, 279, 280, 281, 282, 283, 284, 285,\n",
       "       286, 287, 288, 289, 290, 291, 292, 293, 294, 295, 296, 297, 298,\n",
       "       299, 300, 301, 302, 303, 304, 305, 306, 307, 308, 309, 310, 311,\n",
       "       312, 313, 314, 315, 316, 317, 318, 319, 320, 321, 322, 323, 324,\n",
       "       325, 326, 327, 328, 329, 330, 331, 332, 333, 334, 335, 336, 337,\n",
       "       338, 339, 340, 341, 342, 343, 344, 345, 346, 347, 348, 349, 350,\n",
       "       351, 352, 353, 354, 355, 356, 357, 358, 359, 360, 361, 362, 363,\n",
       "       364, 365, 366, 367, 368, 369, 370, 371, 372, 373, 374, 375, 376,\n",
       "       377, 378, 379, 380, 381, 382, 383, 384, 385, 386, 387, 388, 389,\n",
       "       390, 391, 392, 393, 394, 395, 396, 397, 398, 399, 400, 401, 402,\n",
       "       403, 404, 405, 406, 407, 408, 409, 410, 411, 412, 413, 414, 415,\n",
       "       416, 417, 418, 419, 420, 421, 422, 423, 424, 425, 426, 427, 428,\n",
       "       429, 430, 431, 432, 433, 434, 435, 436, 437, 438, 439, 440, 441,\n",
       "       442, 443, 444, 445, 446, 447, 448, 449, 450, 451, 452, 453, 454,\n",
       "       455, 456, 457, 458, 459, 460, 461, 462, 463, 464, 465, 466, 467,\n",
       "       468, 469, 470, 471, 472, 473, 474, 475, 476, 477, 478, 479, 480,\n",
       "       481, 482, 483, 484, 485, 486, 487, 488, 489, 490, 491, 492, 493,\n",
       "       494, 495, 496, 497, 498, 499, 500, 501, 502, 503, 504, 505, 506,\n",
       "       507, 508, 509, 510, 511, 512, 513, 514, 515, 516, 517, 518, 519,\n",
       "       520, 521, 522, 523, 524, 525, 526, 527, 528, 529, 530, 531, 532,\n",
       "       533, 534, 535, 536, 537, 538, 539, 540, 541, 542, 543, 544, 545,\n",
       "       546, 547, 548, 549, 550, 551, 552, 553, 554, 555, 556, 557, 558,\n",
       "       559, 560, 561, 562, 563, 564, 565, 566, 567, 568, 569, 570, 571,\n",
       "       572, 573, 574, 575, 576, 577, 578, 579, 580, 581, 582, 583, 584,\n",
       "       585, 586, 587, 588, 589, 590, 591, 592, 593, 594, 595, 596, 597,\n",
       "       598, 599, 600, 601, 602, 603, 604, 605, 606, 607, 608, 609, 610,\n",
       "       611, 612, 613, 614, 615, 616, 617, 618, 619, 620, 621, 622, 623,\n",
       "       624, 625, 626, 627, 628, 629, 630, 631, 632, 633, 634, 635, 636,\n",
       "       637, 638, 639, 640, 641, 642, 643, 644, 645, 646, 647, 648, 649,\n",
       "       650, 651, 652, 653, 654, 655, 656, 657, 658, 659, 660, 661, 662,\n",
       "       663, 664, 665, 666, 667, 668, 669, 670, 671, 672, 673, 674, 675,\n",
       "       676, 677, 678, 679, 680, 681, 682, 683, 684, 685, 686, 687, 688,\n",
       "       689, 690, 691, 692, 693, 694, 695, 696, 697, 698, 699, 700, 701,\n",
       "       702, 703, 704, 705, 706, 707, 708, 709, 710, 711, 712, 713, 714,\n",
       "       715, 716, 717, 718, 719, 720, 721, 722, 723, 724, 725, 726, 727,\n",
       "       728, 729, 730, 731, 732, 733, 734, 735, 736, 737, 738, 739, 740,\n",
       "       741, 742, 743, 744, 745, 746, 747, 748, 749, 750, 751, 752, 753,\n",
       "       754, 755, 756, 757, 758, 759, 760, 761, 762, 763, 764, 765, 766,\n",
       "       767, 768, 769, 770, 771, 772, 773, 774, 775, 776, 777, 778, 779,\n",
       "       780, 781, 782, 783, 784, 785, 786, 787, 788, 789, 790, 791, 792,\n",
       "       793, 794, 795, 796, 797, 798, 799, 800, 801, 802, 803, 804, 805,\n",
       "       806, 807, 808, 809, 810, 811, 812, 813, 814, 815, 816, 817, 818,\n",
       "       819, 820, 821, 822, 823, 824, 825, 826, 827, 828, 829, 830, 831,\n",
       "       832, 833, 834, 835, 836, 837, 838, 839, 840, 841, 842, 843, 844,\n",
       "       845, 846, 847, 848, 849, 850, 851, 852, 853, 854, 855, 856, 857,\n",
       "       858, 859, 860, 861, 862, 863, 864, 865, 866, 867, 868, 869, 870,\n",
       "       871, 872, 873, 874, 875, 876, 877, 878, 879, 880, 881, 882, 883,\n",
       "       884, 885, 886, 887, 888, 889, 890, 891, 892, 893, 894, 895, 896,\n",
       "       897, 898, 899, 900, 901, 902, 903, 904, 905, 906, 907, 908, 909,\n",
       "       910, 911, 912, 913, 914, 915, 916, 917, 918, 919, 920, 921, 922,\n",
       "       923, 924, 925, 926, 927, 928, 929, 930, 931, 932, 933, 934, 935,\n",
       "       936, 937, 938, 939, 940, 941, 942, 943, 944, 945, 946, 947, 948,\n",
       "       949, 950, 951, 952, 953, 954, 955, 956, 957, 958, 959, 960, 961,\n",
       "       962, 963, 964, 965, 966, 967, 968, 969, 970, 971, 972, 973, 974,\n",
       "       975, 976, 977, 978, 979, 980, 981, 982, 983, 984, 985, 986, 987,\n",
       "       988, 989, 990, 991, 992, 993, 994, 995, 996, 997, 998, 999])"
      ]
     },
     "execution_count": 21,
     "metadata": {},
     "output_type": "execute_result"
    }
   ],
   "source": [
    "b"
   ]
  },
  {
   "cell_type": "code",
   "execution_count": 30,
   "metadata": {},
   "outputs": [],
   "source": [
    "a=np.array(([1,2.1,3.2],[4,5.4,6.5]),dtype=float)"
   ]
  },
  {
   "cell_type": "code",
   "execution_count": 33,
   "metadata": {},
   "outputs": [
    {
     "data": {
      "text/plain": [
       "array([[1. , 2.1, 3.2],\n",
       "       [4. , 5.4, 6.5]])"
      ]
     },
     "execution_count": 33,
     "metadata": {},
     "output_type": "execute_result"
    }
   ],
   "source": [
    "a"
   ]
  },
  {
   "cell_type": "code",
   "execution_count": 35,
   "metadata": {},
   "outputs": [
    {
     "data": {
      "text/plain": [
       "2"
      ]
     },
     "execution_count": 35,
     "metadata": {},
     "output_type": "execute_result"
    }
   ],
   "source": [
    "a.ndim"
   ]
  },
  {
   "cell_type": "code",
   "execution_count": 38,
   "metadata": {},
   "outputs": [],
   "source": [
    "b=np.zeros((2,3))"
   ]
  },
  {
   "cell_type": "code",
   "execution_count": 40,
   "metadata": {},
   "outputs": [
    {
     "data": {
      "text/plain": [
       "array([[0., 0., 0.],\n",
       "       [0., 0., 0.]])"
      ]
     },
     "execution_count": 40,
     "metadata": {},
     "output_type": "execute_result"
    }
   ],
   "source": [
    "b"
   ]
  },
  {
   "cell_type": "code",
   "execution_count": 42,
   "metadata": {},
   "outputs": [],
   "source": [
    "b=np.ones((2,3))"
   ]
  },
  {
   "cell_type": "code",
   "execution_count": 44,
   "metadata": {},
   "outputs": [
    {
     "data": {
      "text/plain": [
       "array([[1., 1., 1.],\n",
       "       [1., 1., 1.]])"
      ]
     },
     "execution_count": 44,
     "metadata": {},
     "output_type": "execute_result"
    }
   ],
   "source": [
    "b"
   ]
  },
  {
   "cell_type": "code",
   "execution_count": 47,
   "metadata": {},
   "outputs": [],
   "source": [
    "a=np.array([2,3.2,5.5,-6.4,-2.2,2.4])"
   ]
  },
  {
   "cell_type": "code",
   "execution_count": 49,
   "metadata": {},
   "outputs": [
    {
     "data": {
      "text/plain": [
       "array([ 2. ,  3.2,  5.5, -6.4, -2.2,  2.4])"
      ]
     },
     "execution_count": 49,
     "metadata": {},
     "output_type": "execute_result"
    }
   ],
   "source": [
    "a"
   ]
  },
  {
   "cell_type": "code",
   "execution_count": 51,
   "metadata": {},
   "outputs": [
    {
     "data": {
      "text/plain": [
       "3.2"
      ]
     },
     "execution_count": 51,
     "metadata": {},
     "output_type": "execute_result"
    }
   ],
   "source": [
    "a[1]"
   ]
  },
  {
   "cell_type": "code",
   "execution_count": 54,
   "metadata": {},
   "outputs": [
    {
     "data": {
      "text/plain": [
       "array([ 3.2,  5.5, -6.4])"
      ]
     },
     "execution_count": 54,
     "metadata": {},
     "output_type": "execute_result"
    }
   ],
   "source": [
    "a[1:4]"
   ]
  },
  {
   "cell_type": "code",
   "execution_count": 57,
   "metadata": {
    "scrolled": true
   },
   "outputs": [
    {
     "name": "stdout",
     "output_type": "stream",
     "text": [
      "False\n"
     ]
    }
   ],
   "source": [
    "print(10 in a)"
   ]
  },
  {
   "cell_type": "code",
   "execution_count": 67,
   "metadata": {},
   "outputs": [],
   "source": [
    "l1=range(4)\n",
    "l2=range(10,14)\n",
    "arr=np.array((l1,l2),int)"
   ]
  },
  {
   "cell_type": "code",
   "execution_count": 69,
   "metadata": {},
   "outputs": [
    {
     "data": {
      "text/plain": [
       "array([[ 0,  1,  2,  3],\n",
       "       [10, 11, 12, 13]])"
      ]
     },
     "execution_count": 69,
     "metadata": {},
     "output_type": "execute_result"
    }
   ],
   "source": [
    "arr"
   ]
  },
  {
   "cell_type": "code",
   "execution_count": 71,
   "metadata": {},
   "outputs": [
    {
     "data": {
      "text/plain": [
       "(2, 4)"
      ]
     },
     "execution_count": 71,
     "metadata": {},
     "output_type": "execute_result"
    }
   ],
   "source": [
    "arr.shape"
   ]
  },
  {
   "cell_type": "code",
   "execution_count": 73,
   "metadata": {},
   "outputs": [
    {
     "data": {
      "text/plain": [
       "8"
      ]
     },
     "execution_count": 73,
     "metadata": {},
     "output_type": "execute_result"
    }
   ],
   "source": [
    "arr.size"
   ]
  },
  {
   "cell_type": "code",
   "execution_count": 76,
   "metadata": {},
   "outputs": [
    {
     "data": {
      "text/plain": [
       "13"
      ]
     },
     "execution_count": 76,
     "metadata": {},
     "output_type": "execute_result"
    }
   ],
   "source": [
    "arr.max()"
   ]
  },
  {
   "cell_type": "code",
   "execution_count": 78,
   "metadata": {},
   "outputs": [
    {
     "data": {
      "text/plain": [
       "0"
      ]
     },
     "execution_count": 78,
     "metadata": {},
     "output_type": "execute_result"
    }
   ],
   "source": [
    "arr.min()"
   ]
  },
  {
   "cell_type": "code",
   "execution_count": 80,
   "metadata": {},
   "outputs": [
    {
     "data": {
      "text/plain": [
       "array([[[ 0,  1],\n",
       "        [ 2,  3]],\n",
       "\n",
       "       [[10, 11],\n",
       "        [12, 13]]])"
      ]
     },
     "execution_count": 80,
     "metadata": {},
     "output_type": "execute_result"
    }
   ],
   "source": [
    "arr.reshape(2,2,2)"
   ]
  },
  {
   "cell_type": "code",
   "execution_count": 82,
   "metadata": {},
   "outputs": [
    {
     "data": {
      "text/plain": [
       "array([[ 0, 10],\n",
       "       [ 1, 11],\n",
       "       [ 2, 12],\n",
       "       [ 3, 13]])"
      ]
     },
     "execution_count": 82,
     "metadata": {},
     "output_type": "execute_result"
    }
   ],
   "source": [
    "arr.transpose()"
   ]
  },
  {
   "cell_type": "code",
   "execution_count": 84,
   "metadata": {},
   "outputs": [
    {
     "data": {
      "text/plain": [
       "array([ 0,  1,  2,  3, 10, 11, 12, 13])"
      ]
     },
     "execution_count": 84,
     "metadata": {},
     "output_type": "execute_result"
    }
   ],
   "source": [
    "arr.reshape(8)"
   ]
  },
  {
   "cell_type": "code",
   "execution_count": 87,
   "metadata": {},
   "outputs": [
    {
     "data": {
      "text/plain": [
       "array([[ 0.,  1.,  2.,  3.],\n",
       "       [10., 11., 12., 13.]])"
      ]
     },
     "execution_count": 87,
     "metadata": {},
     "output_type": "execute_result"
    }
   ],
   "source": [
    "arr.astype(float)"
   ]
  },
  {
   "cell_type": "code",
   "execution_count": 91,
   "metadata": {},
   "outputs": [],
   "source": [
    "arr2=np.array(([0,3.1,2.2,1.1],[7,4,3.14,11]),int)"
   ]
  },
  {
   "cell_type": "code",
   "execution_count": 93,
   "metadata": {},
   "outputs": [
    {
     "data": {
      "text/plain": [
       "array([[ 0,  3,  2,  1],\n",
       "       [ 7,  4,  3, 11]])"
      ]
     },
     "execution_count": 93,
     "metadata": {},
     "output_type": "execute_result"
    }
   ],
   "source": [
    "arr2"
   ]
  },
  {
   "cell_type": "code",
   "execution_count": 97,
   "metadata": {},
   "outputs": [
    {
     "data": {
      "text/plain": [
       "array([[ 0,  1,  2,  3],\n",
       "       [10, 11, 12, 13],\n",
       "       [ 0,  3,  2,  1],\n",
       "       [ 7,  4,  3, 11]])"
      ]
     },
     "execution_count": 97,
     "metadata": {},
     "output_type": "execute_result"
    }
   ],
   "source": [
    "np.concatenate((arr,arr2),axis=0)"
   ]
  },
  {
   "cell_type": "code",
   "execution_count": 100,
   "metadata": {},
   "outputs": [
    {
     "data": {
      "text/plain": [
       "array([[[  0,  -1,   2,   0]],\n",
       "\n",
       "       [[ 20, -11,  12,   0]]])"
      ]
     },
     "execution_count": 100,
     "metadata": {},
     "output_type": "execute_result"
    }
   ],
   "source": [
    "a=np.array(([range(4)],[range(10,14)]),int)\n",
    "b=np.array([2,-1,1,0])\n",
    "a*b"
   ]
  },
  {
   "cell_type": "code",
   "execution_count": 102,
   "metadata": {},
   "outputs": [],
   "source": [
    "b1=b*100"
   ]
  },
  {
   "cell_type": "code",
   "execution_count": 105,
   "metadata": {},
   "outputs": [
    {
     "data": {
      "text/plain": [
       "array([ 200, -100,  100,    0])"
      ]
     },
     "execution_count": 105,
     "metadata": {},
     "output_type": "execute_result"
    }
   ],
   "source": [
    "b1"
   ]
  },
  {
   "cell_type": "code",
   "execution_count": 107,
   "metadata": {},
   "outputs": [],
   "source": [
    "b2=b*100.0"
   ]
  },
  {
   "cell_type": "code",
   "execution_count": 109,
   "metadata": {},
   "outputs": [
    {
     "data": {
      "text/plain": [
       "array([ 200., -100.,  100.,    0.])"
      ]
     },
     "execution_count": 109,
     "metadata": {},
     "output_type": "execute_result"
    }
   ],
   "source": [
    "b2"
   ]
  },
  {
   "cell_type": "code",
   "execution_count": 111,
   "metadata": {},
   "outputs": [
    {
     "data": {
      "text/plain": [
       "array([ True,  True,  True,  True])"
      ]
     },
     "execution_count": 111,
     "metadata": {},
     "output_type": "execute_result"
    }
   ],
   "source": [
    "b1==b2"
   ]
  },
  {
   "cell_type": "code",
   "execution_count": 113,
   "metadata": {},
   "outputs": [
    {
     "data": {
      "text/plain": [
       "dtype('int32')"
      ]
     },
     "execution_count": 113,
     "metadata": {},
     "output_type": "execute_result"
    }
   ],
   "source": [
    "b1.dtype"
   ]
  },
  {
   "cell_type": "code",
   "execution_count": 115,
   "metadata": {},
   "outputs": [
    {
     "data": {
      "text/plain": [
       "dtype('float64')"
      ]
     },
     "execution_count": 115,
     "metadata": {},
     "output_type": "execute_result"
    }
   ],
   "source": [
    "b2.dtype"
   ]
  },
  {
   "cell_type": "code",
   "execution_count": 117,
   "metadata": {},
   "outputs": [
    {
     "data": {
      "text/plain": [
       "6.5"
      ]
     },
     "execution_count": 117,
     "metadata": {},
     "output_type": "execute_result"
    }
   ],
   "source": [
    "a.mean()"
   ]
  },
  {
   "cell_type": "code",
   "execution_count": 118,
   "metadata": {},
   "outputs": [
    {
     "data": {
      "text/plain": [
       "52"
      ]
     },
     "execution_count": 118,
     "metadata": {},
     "output_type": "execute_result"
    }
   ],
   "source": [
    "a.sum()"
   ]
  },
  {
   "cell_type": "code",
   "execution_count": 120,
   "metadata": {},
   "outputs": [
    {
     "data": {
      "text/plain": [
       "0"
      ]
     },
     "execution_count": 120,
     "metadata": {},
     "output_type": "execute_result"
    }
   ],
   "source": [
    "a.prod()"
   ]
  },
  {
   "cell_type": "code",
   "execution_count": 122,
   "metadata": {},
   "outputs": [
    {
     "data": {
      "text/plain": [
       "5.123475382979799"
      ]
     },
     "execution_count": 122,
     "metadata": {},
     "output_type": "execute_result"
    }
   ],
   "source": [
    "a.std()"
   ]
  },
  {
   "cell_type": "code",
   "execution_count": 124,
   "metadata": {},
   "outputs": [
    {
     "data": {
      "text/plain": [
       "array([[1, 1, 1, 1]], dtype=int64)"
      ]
     },
     "execution_count": 124,
     "metadata": {},
     "output_type": "execute_result"
    }
   ],
   "source": [
    "np.argmax(a,axis=0)"
   ]
  },
  {
   "cell_type": "code",
   "execution_count": 126,
   "metadata": {},
   "outputs": [],
   "source": [
    "arr=np.array([range(10)],int)"
   ]
  },
  {
   "cell_type": "code",
   "execution_count": 128,
   "metadata": {},
   "outputs": [
    {
     "data": {
      "text/plain": [
       "array([[ True,  True,  True, False, False, False, False, False, False,\n",
       "        False]])"
      ]
     },
     "execution_count": 128,
     "metadata": {},
     "output_type": "execute_result"
    }
   ],
   "source": [
    "arr<3"
   ]
  },
  {
   "cell_type": "code",
   "execution_count": 136,
   "metadata": {},
   "outputs": [
    {
     "data": {
      "text/plain": [
       "array([[  0,   5,  10, -15, -20, -25, -30, -35, -40,  45]])"
      ]
     },
     "execution_count": 136,
     "metadata": {},
     "output_type": "execute_result"
    }
   ],
   "source": [
    "np.where(np.logical_or(arr<3 , arr>8),arr*5,arr*-5)"
   ]
  },
  {
   "cell_type": "code",
   "execution_count": 138,
   "metadata": {},
   "outputs": [
    {
     "data": {
      "text/plain": [
       "array([ 2,  3, 10, 11, 12, 13])"
      ]
     },
     "execution_count": 138,
     "metadata": {},
     "output_type": "execute_result"
    }
   ],
   "source": [
    "a[a>1]"
   ]
  },
  {
   "cell_type": "code",
   "execution_count": 140,
   "metadata": {},
   "outputs": [
    {
     "data": {
      "text/plain": [
       "array([ 2,  3, 10])"
      ]
     },
     "execution_count": 140,
     "metadata": {},
     "output_type": "execute_result"
    }
   ],
   "source": [
    "a[np.logical_and(a>1,a<11)]"
   ]
  },
  {
   "cell_type": "code",
   "execution_count": 143,
   "metadata": {},
   "outputs": [],
   "source": [
    "b=np.array([range(6)],int)"
   ]
  },
  {
   "cell_type": "code",
   "execution_count": 145,
   "metadata": {},
   "outputs": [
    {
     "data": {
      "text/plain": [
       "array([[0, 1, 2, 3, 4, 5]])"
      ]
     },
     "execution_count": 145,
     "metadata": {},
     "output_type": "execute_result"
    }
   ],
   "source": [
    "b"
   ]
  },
  {
   "cell_type": "code",
   "execution_count": 146,
   "metadata": {},
   "outputs": [],
   "source": [
    "b.put([0],6)"
   ]
  },
  {
   "cell_type": "code",
   "execution_count": 148,
   "metadata": {},
   "outputs": [
    {
     "data": {
      "text/plain": [
       "array([[6, 1, 2, 3, 4, 5]])"
      ]
     },
     "execution_count": 148,
     "metadata": {},
     "output_type": "execute_result"
    }
   ],
   "source": [
    "b"
   ]
  },
  {
   "cell_type": "code",
   "execution_count": 149,
   "metadata": {},
   "outputs": [],
   "source": [
    "c=np.array([range(5)],int)"
   ]
  },
  {
   "cell_type": "code",
   "execution_count": 151,
   "metadata": {},
   "outputs": [
    {
     "data": {
      "text/plain": [
       "array([[0, 1, 2, 3, 4]])"
      ]
     },
     "execution_count": 151,
     "metadata": {},
     "output_type": "execute_result"
    }
   ],
   "source": [
    "c"
   ]
  },
  {
   "cell_type": "code",
   "execution_count": 153,
   "metadata": {},
   "outputs": [
    {
     "data": {
      "text/plain": [
       "array([[0, 1, 2, 3, 4, 5]])"
      ]
     },
     "execution_count": 153,
     "metadata": {},
     "output_type": "execute_result"
    }
   ],
   "source": [
    "b.put([0],c[-1])\n",
    "b"
   ]
  },
  {
   "cell_type": "code",
   "execution_count": 156,
   "metadata": {},
   "outputs": [
    {
     "data": {
      "text/plain": [
       "array([[4, 1, 2, 3, 4, 5]])"
      ]
     },
     "execution_count": 156,
     "metadata": {},
     "output_type": "execute_result"
    }
   ],
   "source": [
    "b.put([0],c[0][4])\n",
    "b"
   ]
  },
  {
   "cell_type": "code",
   "execution_count": 159,
   "metadata": {},
   "outputs": [
    {
     "data": {
      "text/plain": [
       "array([ 9.43689571e-16+3.00000000e+00j,  9.43689571e-16-3.00000000e+00j,\n",
       "       -1.00000000e+00+1.51201539e-08j, -1.00000000e+00-1.51201539e-08j])"
      ]
     },
     "execution_count": 159,
     "metadata": {},
     "output_type": "execute_result"
    }
   ],
   "source": [
    "np.roots([1,2,10,18,9])"
   ]
  },
  {
   "cell_type": "code",
   "execution_count": 161,
   "metadata": {},
   "outputs": [
    {
     "data": {
      "text/plain": [
       "array([  1.,   0., -10.,   0.,   9.])"
      ]
     },
     "execution_count": 161,
     "metadata": {},
     "output_type": "execute_result"
    }
   ],
   "source": [
    "np.poly([1,-1,3,-3])"
   ]
  },
  {
   "cell_type": "code",
   "execution_count": 163,
   "metadata": {},
   "outputs": [
    {
     "data": {
      "text/plain": [
       "0"
      ]
     },
     "execution_count": 163,
     "metadata": {},
     "output_type": "execute_result"
    }
   ],
   "source": [
    "np.polyval([3,5,-16,-12],2)"
   ]
  },
  {
   "cell_type": "code",
   "execution_count": 165,
   "metadata": {},
   "outputs": [
    {
     "data": {
      "text/plain": [
       "array([[[ 0,  1,  2,  3]],\n",
       "\n",
       "       [[10, 11, 12, 13]]])"
      ]
     },
     "execution_count": 165,
     "metadata": {},
     "output_type": "execute_result"
    }
   ],
   "source": [
    "a=np.array(([range(4)],[range(10,14)]),int)\n",
    "a"
   ]
  },
  {
   "cell_type": "code",
   "execution_count": 167,
   "metadata": {},
   "outputs": [
    {
     "data": {
      "text/plain": [
       "6.5"
      ]
     },
     "execution_count": 167,
     "metadata": {},
     "output_type": "execute_result"
    }
   ],
   "source": [
    "np.median(a)"
   ]
  },
  {
   "cell_type": "code",
   "execution_count": 170,
   "metadata": {},
   "outputs": [
    {
     "data": {
      "text/plain": [
       "array([[1., 1.],\n",
       "       [1., 1.]])"
      ]
     },
     "execution_count": 170,
     "metadata": {},
     "output_type": "execute_result"
    }
   ],
   "source": [
    "a=np.array((range(4),range(10,14)),int)\n",
    "np.corrcoef(a)"
   ]
  },
  {
   "cell_type": "code",
   "execution_count": 172,
   "metadata": {},
   "outputs": [
    {
     "data": {
      "text/plain": [
       "array([[0.99839902, 0.87513538, 0.29842607, 0.07426955],\n",
       "       [0.09497162, 0.90549329, 0.75292602, 0.04683259]])"
      ]
     },
     "execution_count": 172,
     "metadata": {},
     "output_type": "execute_result"
    }
   ],
   "source": [
    "np.random.rand(2,4)"
   ]
  },
  {
   "cell_type": "code",
   "execution_count": 174,
   "metadata": {},
   "outputs": [
    {
     "data": {
      "text/plain": [
       "6"
      ]
     },
     "execution_count": 174,
     "metadata": {},
     "output_type": "execute_result"
    }
   ],
   "source": [
    "np.random.randint(2,10)"
   ]
  },
  {
   "cell_type": "code",
   "execution_count": 180,
   "metadata": {},
   "outputs": [],
   "source": [
    "b=np.random.normal(size=40)"
   ]
  },
  {
   "cell_type": "code",
   "execution_count": 182,
   "metadata": {},
   "outputs": [
    {
     "data": {
      "text/plain": [
       "array([-0.62544772, -0.67764841,  0.61927448,  0.61683618,  1.13671484,\n",
       "        0.6791137 , -0.19238297,  0.73718946,  0.19556526,  0.43842693,\n",
       "       -0.68007209, -0.32211551, -1.07168233,  0.8339375 ,  0.29199991,\n",
       "        0.66756719, -0.63922491,  0.48763069,  2.13471831,  0.97176326,\n",
       "       -0.36357931,  0.21262069, -1.65717954, -2.02003117,  0.49086502,\n",
       "        1.65070435, -1.45275199,  0.5027208 , -1.01528386,  0.57157083,\n",
       "        0.87140181,  0.11602649, -0.38455875,  0.53422304,  0.36033862,\n",
       "       -0.56629584,  0.16869394,  1.87817644, -0.54558199,  0.11332542])"
      ]
     },
     "execution_count": 182,
     "metadata": {},
     "output_type": "execute_result"
    }
   ],
   "source": [
    "b"
   ]
  },
  {
   "cell_type": "code",
   "execution_count": 185,
   "metadata": {},
   "outputs": [],
   "source": [
    "np.random.shuffle(b)"
   ]
  },
  {
   "cell_type": "code",
   "execution_count": 7,
   "metadata": {},
   "outputs": [],
   "source": [
    "a = np.array([1,2,3])"
   ]
  },
  {
   "cell_type": "code",
   "execution_count": 10,
   "metadata": {},
   "outputs": [
    {
     "data": {
      "text/plain": [
       "array([1., 2., 3.])"
      ]
     },
     "execution_count": 10,
     "metadata": {},
     "output_type": "execute_result"
    }
   ],
   "source": [
    "b = a.astype (float)\n",
    "b"
   ]
  },
  {
   "cell_type": "code",
   "execution_count": 12,
   "metadata": {},
   "outputs": [
    {
     "data": {
      "text/plain": [
       "array([ 0,  1,  2,  3,  4,  5,  6,  7,  8,  9, 10])"
      ]
     },
     "execution_count": 12,
     "metadata": {},
     "output_type": "execute_result"
    }
   ],
   "source": [
    "a = np.array (range(11),int)\n",
    "a"
   ]
  },
  {
   "cell_type": "code",
   "execution_count": 17,
   "metadata": {},
   "outputs": [
    {
     "data": {
      "text/plain": [
       "array([ 0.        ,  3.83333333,  7.66666667, 11.5       , 15.33333333,\n",
       "       19.16666667, 23.        ])"
      ]
     },
     "execution_count": 17,
     "metadata": {},
     "output_type": "execute_result"
    }
   ],
   "source": [
    "a = np.linspace (0,23,7)\n",
    "a"
   ]
  },
  {
   "cell_type": "code",
   "execution_count": 19,
   "metadata": {},
   "outputs": [
    {
     "data": {
      "text/plain": [
       "array([[[[[[5.],\n",
       "           [5.]],\n",
       "\n",
       "          [[5.],\n",
       "           [5.]],\n",
       "\n",
       "          [[5.],\n",
       "           [5.]],\n",
       "\n",
       "          [[5.],\n",
       "           [5.]],\n",
       "\n",
       "          [[5.],\n",
       "           [5.]]]],\n",
       "\n",
       "\n",
       "\n",
       "        [[[[5.],\n",
       "           [5.]],\n",
       "\n",
       "          [[5.],\n",
       "           [5.]],\n",
       "\n",
       "          [[5.],\n",
       "           [5.]],\n",
       "\n",
       "          [[5.],\n",
       "           [5.]],\n",
       "\n",
       "          [[5.],\n",
       "           [5.]]]],\n",
       "\n",
       "\n",
       "\n",
       "        [[[[5.],\n",
       "           [5.]],\n",
       "\n",
       "          [[5.],\n",
       "           [5.]],\n",
       "\n",
       "          [[5.],\n",
       "           [5.]],\n",
       "\n",
       "          [[5.],\n",
       "           [5.]],\n",
       "\n",
       "          [[5.],\n",
       "           [5.]]]],\n",
       "\n",
       "\n",
       "\n",
       "        [[[[5.],\n",
       "           [5.]],\n",
       "\n",
       "          [[5.],\n",
       "           [5.]],\n",
       "\n",
       "          [[5.],\n",
       "           [5.]],\n",
       "\n",
       "          [[5.],\n",
       "           [5.]],\n",
       "\n",
       "          [[5.],\n",
       "           [5.]]]],\n",
       "\n",
       "\n",
       "\n",
       "        [[[[5.],\n",
       "           [5.]],\n",
       "\n",
       "          [[5.],\n",
       "           [5.]],\n",
       "\n",
       "          [[5.],\n",
       "           [5.]],\n",
       "\n",
       "          [[5.],\n",
       "           [5.]],\n",
       "\n",
       "          [[5.],\n",
       "           [5.]]]]],\n",
       "\n",
       "\n",
       "\n",
       "\n",
       "       [[[[[5.],\n",
       "           [5.]],\n",
       "\n",
       "          [[5.],\n",
       "           [5.]],\n",
       "\n",
       "          [[5.],\n",
       "           [5.]],\n",
       "\n",
       "          [[5.],\n",
       "           [5.]],\n",
       "\n",
       "          [[5.],\n",
       "           [5.]]]],\n",
       "\n",
       "\n",
       "\n",
       "        [[[[5.],\n",
       "           [5.]],\n",
       "\n",
       "          [[5.],\n",
       "           [5.]],\n",
       "\n",
       "          [[5.],\n",
       "           [5.]],\n",
       "\n",
       "          [[5.],\n",
       "           [5.]],\n",
       "\n",
       "          [[5.],\n",
       "           [5.]]]],\n",
       "\n",
       "\n",
       "\n",
       "        [[[[5.],\n",
       "           [5.]],\n",
       "\n",
       "          [[5.],\n",
       "           [5.]],\n",
       "\n",
       "          [[5.],\n",
       "           [5.]],\n",
       "\n",
       "          [[5.],\n",
       "           [5.]],\n",
       "\n",
       "          [[5.],\n",
       "           [5.]]]],\n",
       "\n",
       "\n",
       "\n",
       "        [[[[5.],\n",
       "           [5.]],\n",
       "\n",
       "          [[5.],\n",
       "           [5.]],\n",
       "\n",
       "          [[5.],\n",
       "           [5.]],\n",
       "\n",
       "          [[5.],\n",
       "           [5.]],\n",
       "\n",
       "          [[5.],\n",
       "           [5.]]]],\n",
       "\n",
       "\n",
       "\n",
       "        [[[[5.],\n",
       "           [5.]],\n",
       "\n",
       "          [[5.],\n",
       "           [5.]],\n",
       "\n",
       "          [[5.],\n",
       "           [5.]],\n",
       "\n",
       "          [[5.],\n",
       "           [5.]],\n",
       "\n",
       "          [[5.],\n",
       "           [5.]]]]]])"
      ]
     },
     "execution_count": 19,
     "metadata": {},
     "output_type": "execute_result"
    }
   ],
   "source": [
    "a = np.full ([2,5,1,5,2,1],5.0)\n",
    "a"
   ]
  },
  {
   "cell_type": "code",
   "execution_count": 21,
   "metadata": {},
   "outputs": [
    {
     "data": {
      "text/plain": [
       "array([[[[5., 5.],\n",
       "         [5., 5.],\n",
       "         [5., 5.],\n",
       "         [5., 5.],\n",
       "         [5., 5.]],\n",
       "\n",
       "        [[5., 5.],\n",
       "         [5., 5.],\n",
       "         [5., 5.],\n",
       "         [5., 5.],\n",
       "         [5., 5.]],\n",
       "\n",
       "        [[5., 5.],\n",
       "         [5., 5.],\n",
       "         [5., 5.],\n",
       "         [5., 5.],\n",
       "         [5., 5.]],\n",
       "\n",
       "        [[5., 5.],\n",
       "         [5., 5.],\n",
       "         [5., 5.],\n",
       "         [5., 5.],\n",
       "         [5., 5.]],\n",
       "\n",
       "        [[5., 5.],\n",
       "         [5., 5.],\n",
       "         [5., 5.],\n",
       "         [5., 5.],\n",
       "         [5., 5.]]],\n",
       "\n",
       "\n",
       "       [[[5., 5.],\n",
       "         [5., 5.],\n",
       "         [5., 5.],\n",
       "         [5., 5.],\n",
       "         [5., 5.]],\n",
       "\n",
       "        [[5., 5.],\n",
       "         [5., 5.],\n",
       "         [5., 5.],\n",
       "         [5., 5.],\n",
       "         [5., 5.]],\n",
       "\n",
       "        [[5., 5.],\n",
       "         [5., 5.],\n",
       "         [5., 5.],\n",
       "         [5., 5.],\n",
       "         [5., 5.]],\n",
       "\n",
       "        [[5., 5.],\n",
       "         [5., 5.],\n",
       "         [5., 5.],\n",
       "         [5., 5.],\n",
       "         [5., 5.]],\n",
       "\n",
       "        [[5., 5.],\n",
       "         [5., 5.],\n",
       "         [5., 5.],\n",
       "         [5., 5.],\n",
       "         [5., 5.]]]])"
      ]
     },
     "execution_count": 21,
     "metadata": {},
     "output_type": "execute_result"
    }
   ],
   "source": [
    "a.squeeze()"
   ]
  },
  {
   "cell_type": "code",
   "execution_count": 24,
   "metadata": {},
   "outputs": [
    {
     "data": {
      "text/plain": [
       "array([[5., 5., 5., 5., 5., 5., 5., 5., 5., 5.],\n",
       "       [5., 5., 5., 5., 5., 5., 5., 5., 5., 5.],\n",
       "       [5., 5., 5., 5., 5., 5., 5., 5., 5., 5.],\n",
       "       [5., 5., 5., 5., 5., 5., 5., 5., 5., 5.],\n",
       "       [5., 5., 5., 5., 5., 5., 5., 5., 5., 5.],\n",
       "       [5., 5., 5., 5., 5., 5., 5., 5., 5., 5.],\n",
       "       [5., 5., 5., 5., 5., 5., 5., 5., 5., 5.],\n",
       "       [5., 5., 5., 5., 5., 5., 5., 5., 5., 5.],\n",
       "       [5., 5., 5., 5., 5., 5., 5., 5., 5., 5.],\n",
       "       [5., 5., 5., 5., 5., 5., 5., 5., 5., 5.]])"
      ]
     },
     "execution_count": 24,
     "metadata": {},
     "output_type": "execute_result"
    }
   ],
   "source": [
    "c = a.reshape (10,10)\n",
    "c"
   ]
  },
  {
   "cell_type": "code",
   "execution_count": 35,
   "metadata": {},
   "outputs": [
    {
     "data": {
      "text/plain": [
       "array([0, 1, 2, 3, 4])"
      ]
     },
     "execution_count": 35,
     "metadata": {},
     "output_type": "execute_result"
    }
   ],
   "source": [
    "a = np.arange (10)\n",
    "b = np.arange (5)\n",
    "b"
   ]
  },
  {
   "cell_type": "code",
   "execution_count": 108,
   "metadata": {},
   "outputs": [
    {
     "data": {
      "text/plain": [
       "array([[[[27.05702464, 11.660681  , 14.06004644],\n",
       "         [19.81230908, 19.38853114, 25.10776138],\n",
       "         [18.04657662, 19.61197571, 18.2460336 ],\n",
       "         [17.22586682, 17.9877553 , 10.15256995],\n",
       "         [21.85238779, 15.49519401, 26.28993344],\n",
       "         [25.03404082, 28.65932555, 21.84276102],\n",
       "         [16.5219231 , 22.42841125, 11.6205464 ],\n",
       "         [21.13097652, 28.17283718, 18.10837374],\n",
       "         [22.97168359, 17.41493418, 16.93149272],\n",
       "         [13.91850777, 25.89590335, 19.44698008],\n",
       "         [21.13325713, 21.04029812, 16.91862374],\n",
       "         [22.60072857, 19.73135417, 24.89303323]],\n",
       "\n",
       "        [[14.81240861, 18.72100734, 18.87067365],\n",
       "         [25.05133907, 12.97745579, 16.07799413],\n",
       "         [27.46522922, 29.65679975, 29.04075443],\n",
       "         [18.44193576, 22.70805417, 24.69240846],\n",
       "         [20.38079807, 25.12626454, 28.10928968],\n",
       "         [23.04024914, 24.35538266, 16.03430805],\n",
       "         [23.46381361, 16.06960292, 25.75211482],\n",
       "         [20.52727273, 14.01134088, 24.97874988],\n",
       "         [16.24446842, 24.1895489 , 20.02994192],\n",
       "         [19.82428274, 20.72497087, 22.1334895 ],\n",
       "         [28.29486044, 26.71130013, 23.98271995],\n",
       "         [17.91387492, 14.6621971 , 12.55445118]],\n",
       "\n",
       "        [[23.33079016, 23.45521686, 17.91936047],\n",
       "         [19.22500194, 29.15848137, 23.42798026],\n",
       "         [23.18550305, 24.44197904, 23.11183041],\n",
       "         [13.49615707, 21.63885015, 22.66507814],\n",
       "         [19.38586433, 25.4126454 , 19.32712739],\n",
       "         [27.52053738, 22.21109673, 27.65238531],\n",
       "         [21.91257787, 18.52396796, 14.82932752],\n",
       "         [16.73376445, 19.74943284, 22.79578757],\n",
       "         [21.43756528, 20.23254417, 12.13206957],\n",
       "         [18.83150505, 18.83597762, 16.85047006],\n",
       "         [17.09729916, 20.72870902, 24.74225527],\n",
       "         [26.19385994, 21.53877662, 14.11376487]]],\n",
       "\n",
       "\n",
       "       [[[23.71102487, 22.38093464, 25.52594327],\n",
       "         [23.37093269, 27.97464158, 13.54156998],\n",
       "         [27.2485318 , 27.63973679, 25.73984156],\n",
       "         [27.17731858, 21.82694195, 27.70761104],\n",
       "         [18.16574166, 22.73534975, 20.33043585],\n",
       "         [31.74003909, 29.1641038 , 20.84234128],\n",
       "         [18.54361088, 20.463999  , 25.46175646],\n",
       "         [16.02600909, 24.2488006 , 20.88324121],\n",
       "         [13.2971484 , 19.73786817, 24.5961609 ],\n",
       "         [21.54894585, 23.24781019, 21.24154443],\n",
       "         [22.63353709, 18.78558219, 13.47620402],\n",
       "         [23.54307687, 20.08832148, 16.45536777]],\n",
       "\n",
       "        [[25.32088574, 29.34021677, 20.69546792],\n",
       "         [21.26414118, 21.12640244, 17.05388725],\n",
       "         [18.16869192, 16.55243759, 26.9486405 ],\n",
       "         [23.79778448, 15.0046309 , 25.7568541 ],\n",
       "         [17.13052816, 19.26313524, 17.88354308],\n",
       "         [20.06298899, 26.60063241, 27.31215287],\n",
       "         [23.5573532 , 26.57931464, 29.78208673],\n",
       "         [19.59751497, 14.00093039, 27.61744383],\n",
       "         [23.46994288, 20.18052048, 10.42279083],\n",
       "         [20.09712268, 14.66139912, 24.8283204 ],\n",
       "         [13.20790511, 13.71386857, 21.265108  ],\n",
       "         [21.35395597, 14.49636987, 23.49574015]],\n",
       "\n",
       "        [[24.36370373, 20.53784153, 16.89094223],\n",
       "         [21.83511286, 28.23596049, 19.18368988],\n",
       "         [24.0697773 , 27.84285502, 18.00773439],\n",
       "         [28.73258769, 29.18177752, 24.60621062],\n",
       "         [21.25317065, 17.45952628, 18.34764666],\n",
       "         [21.23346382, 22.40683395, 18.06401483],\n",
       "         [23.82394971, 15.95456682, 20.30334993],\n",
       "         [20.92871773, 25.57034476, 21.50567733],\n",
       "         [24.77922415, 12.84758716, 13.86494642],\n",
       "         [23.09424026, 16.47051414, 22.74034366],\n",
       "         [25.42284015, 20.83259   , 16.87929282],\n",
       "         [17.26278288, 21.50816544, 21.49507191]]],\n",
       "\n",
       "\n",
       "       [[[28.37294512, 26.5189833 , 22.73105049],\n",
       "         [24.00743841, 21.40002924, 18.09988802],\n",
       "         [18.51754312, 21.19769087, 18.0959631 ],\n",
       "         [29.2459585 , 18.34993168, 20.20572646],\n",
       "         [21.91537468, 24.54923434, 24.86225321],\n",
       "         [17.40121612, 21.10461202, 13.98041969],\n",
       "         [22.06303387, 20.48942938, 27.73912606],\n",
       "         [18.06437783, 21.69614928, 25.84789657],\n",
       "         [23.72323919, 18.97174324, 12.52769096],\n",
       "         [20.06935267, 21.24120928, 15.39153573],\n",
       "         [21.14726739, 23.32725267, 18.84476907],\n",
       "         [13.98253609, 25.83415996, 23.54585129]],\n",
       "\n",
       "        [[24.91481117, 17.41879334, 15.26101731],\n",
       "         [29.8529069 , 25.06596858, 27.88146596],\n",
       "         [23.85788508, 23.5248931 , 15.08982118],\n",
       "         [22.1993078 , 15.74405989, 21.11992258],\n",
       "         [19.62948268, 18.05203181, 30.1422081 ],\n",
       "         [15.36694646, 17.94046525, 22.78639566],\n",
       "         [25.07477836, 20.58291796, 22.28537304],\n",
       "         [15.17059884, 28.59430504, 24.12764513],\n",
       "         [17.1305879 , 22.19005703, 14.03187679],\n",
       "         [25.80299637, 20.35165057, 12.33091211],\n",
       "         [27.60965181, 18.60922171, 19.35411231],\n",
       "         [13.12714172, 18.11742414, 24.3230798 ]],\n",
       "\n",
       "        [[12.94565907, 21.13117148, 25.06616221],\n",
       "         [22.15559993, 26.77340414, 15.06515802],\n",
       "         [29.95895503,  9.26120729, 21.34502972],\n",
       "         [20.42060239, 31.11886605, 19.94551959],\n",
       "         [17.05291596, 20.48581325, 17.82576213],\n",
       "         [23.70611971, 25.45158338, 18.72122199],\n",
       "         [23.84200323, 15.82192452, 15.87774849],\n",
       "         [19.904016  , 13.79603654, 15.89637834],\n",
       "         [21.35773791, 18.49430236, 24.73435169],\n",
       "         [20.47380139, 16.97443275, 19.76583388],\n",
       "         [27.89839321, 27.70255376, 19.07300478],\n",
       "         [25.95490001, 16.24495745, 19.68826646]]]])"
      ]
     },
     "execution_count": 108,
     "metadata": {},
     "output_type": "execute_result"
    }
   ],
   "source": [
    "a = np.random.normal(21,4.5, (3,3,12,3))\n",
    "a"
   ]
  },
  {
   "cell_type": "code",
   "execution_count": 68,
   "metadata": {},
   "outputs": [
    {
     "data": {
      "text/plain": [
       "32.44335220149272"
      ]
     },
     "execution_count": 68,
     "metadata": {},
     "output_type": "execute_result"
    }
   ],
   "source": [
    "a.max()"
   ]
  },
  {
   "cell_type": "code",
   "execution_count": 69,
   "metadata": {},
   "outputs": [
    {
     "data": {
      "text/plain": [
       "3.7422324245193863"
      ]
     },
     "execution_count": 69,
     "metadata": {},
     "output_type": "execute_result"
    }
   ],
   "source": [
    "a.min()"
   ]
  },
  {
   "cell_type": "code",
   "execution_count": 70,
   "metadata": {},
   "outputs": [
    {
     "data": {
      "text/plain": [
       "4.606134473514872"
      ]
     },
     "execution_count": 70,
     "metadata": {},
     "output_type": "execute_result"
    }
   ],
   "source": [
    "a.std()"
   ]
  },
  {
   "cell_type": "code",
   "execution_count": 71,
   "metadata": {},
   "outputs": [
    {
     "data": {
      "text/plain": [
       "21.216474788102122"
      ]
     },
     "execution_count": 71,
     "metadata": {},
     "output_type": "execute_result"
    }
   ],
   "source": [
    "a.var()"
   ]
  },
  {
   "cell_type": "code",
   "execution_count": 72,
   "metadata": {},
   "outputs": [
    {
     "data": {
      "text/plain": [
       "20.997493072934937"
      ]
     },
     "execution_count": 72,
     "metadata": {},
     "output_type": "execute_result"
    }
   ],
   "source": [
    "a.mean()"
   ]
  },
  {
   "cell_type": "code",
   "execution_count": 109,
   "metadata": {},
   "outputs": [
    {
     "data": {
      "text/plain": [
       "array([[[27.05702464, 23.45521686, 18.87067365],\n",
       "        [25.05133907, 29.15848137, 25.10776138],\n",
       "        [27.46522922, 29.65679975, 29.04075443],\n",
       "        [18.44193576, 22.70805417, 24.69240846],\n",
       "        [21.85238779, 25.4126454 , 28.10928968],\n",
       "        [27.52053738, 28.65932555, 27.65238531],\n",
       "        [23.46381361, 22.42841125, 25.75211482],\n",
       "        [21.13097652, 28.17283718, 24.97874988],\n",
       "        [22.97168359, 24.1895489 , 20.02994192],\n",
       "        [19.82428274, 25.89590335, 22.1334895 ],\n",
       "        [28.29486044, 26.71130013, 24.74225527],\n",
       "        [26.19385994, 21.53877662, 24.89303323]],\n",
       "\n",
       "       [[25.32088574, 29.34021677, 25.52594327],\n",
       "        [23.37093269, 28.23596049, 19.18368988],\n",
       "        [27.2485318 , 27.84285502, 26.9486405 ],\n",
       "        [28.73258769, 29.18177752, 27.70761104],\n",
       "        [21.25317065, 22.73534975, 20.33043585],\n",
       "        [31.74003909, 29.1641038 , 27.31215287],\n",
       "        [23.82394971, 26.57931464, 29.78208673],\n",
       "        [20.92871773, 25.57034476, 27.61744383],\n",
       "        [24.77922415, 20.18052048, 24.5961609 ],\n",
       "        [23.09424026, 23.24781019, 24.8283204 ],\n",
       "        [25.42284015, 20.83259   , 21.265108  ],\n",
       "        [23.54307687, 21.50816544, 23.49574015]],\n",
       "\n",
       "       [[28.37294512, 26.5189833 , 25.06616221],\n",
       "        [29.8529069 , 26.77340414, 27.88146596],\n",
       "        [29.95895503, 23.5248931 , 21.34502972],\n",
       "        [29.2459585 , 31.11886605, 21.11992258],\n",
       "        [21.91537468, 24.54923434, 30.1422081 ],\n",
       "        [23.70611971, 25.45158338, 22.78639566],\n",
       "        [25.07477836, 20.58291796, 27.73912606],\n",
       "        [19.904016  , 28.59430504, 25.84789657],\n",
       "        [23.72323919, 22.19005703, 24.73435169],\n",
       "        [25.80299637, 21.24120928, 19.76583388],\n",
       "        [27.89839321, 27.70255376, 19.35411231],\n",
       "        [25.95490001, 25.83415996, 24.3230798 ]]])"
      ]
     },
     "execution_count": 109,
     "metadata": {},
     "output_type": "execute_result"
    }
   ],
   "source": [
    "a.max(axis=1)"
   ]
  },
  {
   "cell_type": "code",
   "execution_count": 74,
   "metadata": {},
   "outputs": [
    {
     "data": {
      "text/plain": [
       "array([25.31538189, 27.08234805, 22.63783219, 23.12567984, 20.78386137,\n",
       "       23.37864234, 17.30742402, 23.4401943 , 15.11036323, 16.13508281,\n",
       "       26.11217251, 26.81740078, 27.70074957, 25.4802047 , 21.89375162,\n",
       "       23.822012  , 12.97483751, 22.61241672, 19.23282924, 17.22374487,\n",
       "       23.13714918, 21.88505948, 15.60994892, 14.30431343, 20.82347643,\n",
       "       21.8359418 , 23.51834264, 28.97827461, 26.34671156, 18.86822342,\n",
       "       22.25624377, 20.1710333 , 18.01356323, 17.73410208, 22.94753646,\n",
       "       21.88579397, 25.27534343, 20.67581248, 14.78612078, 13.47729933,\n",
       "       17.081664  , 22.12448837, 22.59209404, 23.25261343, 21.87386399,\n",
       "       22.94078313, 13.89371596, 17.47113632, 13.23763553, 22.76304112,\n",
       "       25.46720343, 13.23974168, 20.93705225, 11.41736779, 22.83792651,\n",
       "       18.27682021, 23.8916754 , 16.59613445, 18.57039609, 21.57401665,\n",
       "       23.12435612, 27.47011063, 25.98267848, 25.3134081 , 22.92833373,\n",
       "       17.11768041, 20.80917157, 19.69050964, 14.48543286, 25.17244704,\n",
       "       14.89475558, 26.70361831, 19.84370746, 16.22527106, 28.11249683,\n",
       "       16.82050354, 20.87657655, 24.06844524, 28.12930795, 25.57364138,\n",
       "       29.43198299, 16.89673536, 12.57688526, 24.54783035, 29.39090623,\n",
       "       20.48985962, 16.953691  , 17.51658767, 23.3036767 , 21.65234226,\n",
       "       13.35845001, 25.12923725, 19.87986168, 27.77831254, 23.76563767,\n",
       "       20.11410178, 18.42277204, 20.20417587, 26.01037494, 17.41531599,\n",
       "       20.24141146, 12.4422455 , 24.42747346, 26.02421004, 20.71982598,\n",
       "       17.29162363, 19.01572476, 19.86738502, 25.38064895, 20.1720204 ,\n",
       "       14.58823567, 24.39109176, 19.28768713, 21.80745841, 25.38602661,\n",
       "       17.36515418, 25.37403674, 15.05664704, 18.27326139, 19.72120583,\n",
       "       26.8962159 , 22.08567713, 24.24909973, 22.80569676, 20.2593223 ,\n",
       "       18.17728812, 18.08063668, 29.98295871, 25.14012255, 17.21540179,\n",
       "       16.22140097, 28.57854956, 21.72234692, 25.35281535, 15.94888882,\n",
       "       19.33002615, 17.90389496, 19.49563018, 19.78729914, 17.8788352 ,\n",
       "       28.49451614, 16.58775008, 32.4433522 , 20.91961382, 26.56025955,\n",
       "       16.82065507, 21.40961841, 27.10631097, 18.12803638, 16.18609987,\n",
       "       22.35820088, 21.09252019, 23.30537254, 26.29120943, 22.99671103,\n",
       "       27.42904345, 12.43513326, 29.4614013 , 18.63430979, 21.9252873 ,\n",
       "       11.12972077, 18.15235884, 17.13016847, 24.03600627, 23.61940974,\n",
       "       26.10750954, 18.12817997,  3.74223242, 20.60989436, 23.20793983,\n",
       "       15.28434963, 17.05310939, 16.03777756, 21.25227415, 25.78564441,\n",
       "       21.27566922, 17.60581237, 17.45027838, 17.98254544, 22.50870458,\n",
       "       22.10510392, 29.36870451, 23.92664191, 17.31230133, 28.05702798,\n",
       "       25.44463047, 27.53637198, 19.21558299, 21.59526526, 18.74615696,\n",
       "       12.88349964, 17.43146412, 19.35322365, 29.59514236, 13.2078698 ,\n",
       "       17.83329862, 16.28137863, 25.63831592, 10.89647946, 19.68249376,\n",
       "       21.74241736, 25.18243077, 12.0958987 , 32.11259066, 16.01013185,\n",
       "       28.06564864, 17.16381533, 28.22298825, 20.57190967, 19.97747051,\n",
       "       18.59188076, 17.46034335, 20.75057132, 18.80878822, 16.05881977,\n",
       "       12.89848374, 14.79573726, 23.5832746 , 15.30453167, 23.95158829,\n",
       "       24.14337031, 18.84610132, 19.53406381, 24.58879344, 16.27006928,\n",
       "       15.5867649 , 25.07704663, 13.58948542, 23.03519536, 22.86665109,\n",
       "       25.80896158, 15.76055292, 20.54885631, 19.92831532, 17.31401166,\n",
       "       15.28266171, 18.82137033, 28.97643837, 19.56848475, 11.71408443,\n",
       "       21.1729843 , 25.41878369, 26.09762317, 21.22087375, 14.23501204,\n",
       "       22.2901531 , 28.86555175, 25.19825334, 25.41560958, 20.53729771,\n",
       "       18.58581582, 23.59277509, 21.73449059, 13.75529278, 13.27504912,\n",
       "       18.89135806, 25.13707302, 22.73426844, 24.45501658, 27.6904409 ,\n",
       "       21.5289903 , 17.62249015, 24.21547317, 22.99572345, 12.89035848,\n",
       "       24.78853754, 27.22201023, 21.3867689 , 26.38011897, 24.41145419,\n",
       "       16.7853631 , 14.55282634, 31.27728684, 21.17720508, 16.66320621,\n",
       "       22.98507212, 20.61453382, 18.51024406, 18.30858539, 19.5098194 ,\n",
       "       21.92482281, 21.79234965, 19.12460227, 24.56782244, 21.10948595,\n",
       "       26.6284417 , 18.46832425, 14.95262155, 27.29736656, 11.41836147,\n",
       "       18.72059891, 25.7077927 , 23.82672592, 16.96377394, 17.54072709,\n",
       "       25.95918107, 21.67563345, 26.45022412, 19.59421067, 21.85766971,\n",
       "       27.31452392, 23.97000195, 25.07305866, 25.94575779, 14.46651257,\n",
       "       26.82450786, 19.00890436, 21.5269331 , 22.62743983, 23.41832208,\n",
       "       30.07704363, 14.58311533, 26.24365323, 16.37871331, 20.94643348,\n",
       "       24.1496246 , 20.46274359, 22.30018601, 21.70105085, 19.95966839,\n",
       "       12.42307038, 20.84145614, 19.87176858, 25.0729384 ])"
      ]
     },
     "execution_count": 74,
     "metadata": {},
     "output_type": "execute_result"
    }
   ],
   "source": [
    "a = a.reshape (324)\n",
    "a"
   ]
  },
  {
   "cell_type": "code",
   "execution_count": 75,
   "metadata": {},
   "outputs": [
    {
     "data": {
      "text/plain": [
       "array([25.31538189, 22.63783219, 23.12567984, 20.78386137, 23.37864234,\n",
       "       17.30742402, 23.4401943 , 15.11036323, 16.13508281, 25.4802047 ,\n",
       "       21.89375162, 23.822012  , 22.61241672, 19.23282924, 17.22374487,\n",
       "       23.13714918, 21.88505948, 15.60994892, 20.82347643, 21.8359418 ,\n",
       "       23.51834264, 18.86822342, 22.25624377, 20.1710333 , 18.01356323,\n",
       "       17.73410208, 22.94753646, 21.88579397, 25.27534343, 20.67581248,\n",
       "       17.081664  , 22.12448837, 22.59209404, 23.25261343, 21.87386399,\n",
       "       22.94078313, 17.47113632, 22.76304112, 25.46720343, 20.93705225,\n",
       "       22.83792651, 18.27682021, 23.8916754 , 16.59613445, 18.57039609,\n",
       "       21.57401665, 23.12435612, 25.98267848, 25.3134081 , 22.92833373,\n",
       "       17.11768041, 20.80917157, 19.69050964, 25.17244704, 19.84370746,\n",
       "       16.22527106, 16.82050354, 20.87657655, 24.06844524, 25.57364138,\n",
       "       16.89673536, 24.54783035, 20.48985962, 16.953691  , 17.51658767,\n",
       "       23.3036767 , 21.65234226, 25.12923725, 19.87986168, 23.76563767,\n",
       "       20.11410178, 18.42277204, 20.20417587, 17.41531599, 20.24141146,\n",
       "       24.42747346, 20.71982598, 17.29162363, 19.01572476, 19.86738502,\n",
       "       25.38064895, 20.1720204 , 24.39109176, 19.28768713, 21.80745841,\n",
       "       25.38602661, 17.36515418, 25.37403674, 15.05664704, 18.27326139,\n",
       "       19.72120583, 22.08567713, 24.24909973, 22.80569676, 20.2593223 ,\n",
       "       18.17728812, 18.08063668, 25.14012255, 17.21540179, 16.22140097,\n",
       "       21.72234692, 25.35281535, 15.94888882, 19.33002615, 17.90389496,\n",
       "       19.49563018, 19.78729914, 17.8788352 , 16.58775008, 20.91961382,\n",
       "       16.82065507, 21.40961841, 18.12803638, 16.18609987, 22.35820088,\n",
       "       21.09252019, 23.30537254, 22.99671103, 18.63430979, 21.9252873 ,\n",
       "       18.15235884, 17.13016847, 24.03600627, 23.61940974, 18.12817997,\n",
       "       20.60989436, 23.20793983, 15.28434963, 17.05310939, 16.03777756,\n",
       "       21.25227415, 25.78564441, 21.27566922, 17.60581237, 17.45027838,\n",
       "       17.98254544, 22.50870458, 22.10510392, 23.92664191, 17.31230133,\n",
       "       25.44463047, 19.21558299, 21.59526526, 18.74615696, 17.43146412,\n",
       "       19.35322365, 17.83329862, 16.28137863, 25.63831592, 19.68249376,\n",
       "       21.74241736, 25.18243077, 16.01013185, 17.16381533, 20.57190967,\n",
       "       19.97747051, 18.59188076, 17.46034335, 20.75057132, 18.80878822,\n",
       "       16.05881977, 23.5832746 , 15.30453167, 23.95158829, 24.14337031,\n",
       "       18.84610132, 19.53406381, 24.58879344, 16.27006928, 15.5867649 ,\n",
       "       25.07704663, 23.03519536, 22.86665109, 25.80896158, 15.76055292,\n",
       "       20.54885631, 19.92831532, 17.31401166, 15.28266171, 18.82137033,\n",
       "       19.56848475, 21.1729843 , 25.41878369, 21.22087375, 22.2901531 ,\n",
       "       25.19825334, 25.41560958, 20.53729771, 18.58581582, 23.59277509,\n",
       "       21.73449059, 18.89135806, 25.13707302, 22.73426844, 24.45501658,\n",
       "       21.5289903 , 17.62249015, 24.21547317, 22.99572345, 24.78853754,\n",
       "       21.3867689 , 24.41145419, 16.7853631 , 21.17720508, 16.66320621,\n",
       "       22.98507212, 20.61453382, 18.51024406, 18.30858539, 19.5098194 ,\n",
       "       21.92482281, 21.79234965, 19.12460227, 24.56782244, 21.10948595,\n",
       "       18.46832425, 18.72059891, 25.7077927 , 23.82672592, 16.96377394,\n",
       "       17.54072709, 25.95918107, 21.67563345, 19.59421067, 21.85766971,\n",
       "       23.97000195, 25.07305866, 25.94575779, 19.00890436, 21.5269331 ,\n",
       "       22.62743983, 23.41832208, 16.37871331, 20.94643348, 24.1496246 ,\n",
       "       20.46274359, 22.30018601, 21.70105085, 19.95966839, 20.84145614,\n",
       "       19.87176858, 25.0729384 ])"
      ]
     },
     "execution_count": 75,
     "metadata": {},
     "output_type": "execute_result"
    }
   ],
   "source": [
    "b = a [np.logical_and (a>15,a<26)] \n",
    "b "
   ]
  },
  {
   "cell_type": "code",
   "execution_count": 90,
   "metadata": {},
   "outputs": [
    {
     "data": {
      "text/plain": [
       "array([25.31538189,         nan, 22.63783219, 23.12567984, 20.78386137,\n",
       "       23.37864234, 17.30742402, 23.4401943 , 15.11036323, 16.13508281,\n",
       "               nan,         nan,         nan, 25.4802047 , 21.89375162,\n",
       "       23.822012  ,         nan, 22.61241672, 19.23282924, 17.22374487,\n",
       "       23.13714918, 21.88505948, 15.60994892,         nan, 20.82347643,\n",
       "       21.8359418 , 23.51834264,         nan,         nan, 18.86822342,\n",
       "       22.25624377, 20.1710333 , 18.01356323, 17.73410208, 22.94753646,\n",
       "       21.88579397, 25.27534343, 20.67581248,         nan,         nan,\n",
       "       17.081664  , 22.12448837, 22.59209404, 23.25261343, 21.87386399,\n",
       "       22.94078313,         nan, 17.47113632,         nan, 22.76304112,\n",
       "       25.46720343,         nan, 20.93705225,         nan, 22.83792651,\n",
       "       18.27682021, 23.8916754 , 16.59613445, 18.57039609, 21.57401665,\n",
       "       23.12435612,         nan, 25.98267848, 25.3134081 , 22.92833373,\n",
       "       17.11768041, 20.80917157, 19.69050964,         nan, 25.17244704,\n",
       "               nan,         nan, 19.84370746, 16.22527106,         nan,\n",
       "       16.82050354, 20.87657655, 24.06844524,         nan, 25.57364138,\n",
       "               nan, 16.89673536,         nan, 24.54783035,         nan,\n",
       "       20.48985962, 16.953691  , 17.51658767, 23.3036767 , 21.65234226,\n",
       "               nan, 25.12923725, 19.87986168,         nan, 23.76563767,\n",
       "       20.11410178, 18.42277204, 20.20417587,         nan, 17.41531599,\n",
       "       20.24141146,         nan, 24.42747346,         nan, 20.71982598,\n",
       "       17.29162363, 19.01572476, 19.86738502, 25.38064895, 20.1720204 ,\n",
       "               nan, 24.39109176, 19.28768713, 21.80745841, 25.38602661,\n",
       "       17.36515418, 25.37403674, 15.05664704, 18.27326139, 19.72120583,\n",
       "               nan, 22.08567713, 24.24909973, 22.80569676, 20.2593223 ,\n",
       "       18.17728812, 18.08063668,         nan, 25.14012255, 17.21540179,\n",
       "       16.22140097,         nan, 21.72234692, 25.35281535, 15.94888882,\n",
       "       19.33002615, 17.90389496, 19.49563018, 19.78729914, 17.8788352 ,\n",
       "               nan, 16.58775008,         nan, 20.91961382,         nan,\n",
       "       16.82065507, 21.40961841,         nan, 18.12803638, 16.18609987,\n",
       "       22.35820088, 21.09252019, 23.30537254,         nan, 22.99671103,\n",
       "               nan,         nan,         nan, 18.63430979, 21.9252873 ,\n",
       "               nan, 18.15235884, 17.13016847, 24.03600627, 23.61940974,\n",
       "               nan, 18.12817997,         nan, 20.60989436, 23.20793983,\n",
       "       15.28434963, 17.05310939, 16.03777756, 21.25227415, 25.78564441,\n",
       "       21.27566922, 17.60581237, 17.45027838, 17.98254544, 22.50870458,\n",
       "       22.10510392,         nan, 23.92664191, 17.31230133,         nan,\n",
       "       25.44463047,         nan, 19.21558299, 21.59526526, 18.74615696,\n",
       "               nan, 17.43146412, 19.35322365,         nan,         nan,\n",
       "       17.83329862, 16.28137863, 25.63831592,         nan, 19.68249376,\n",
       "       21.74241736, 25.18243077,         nan,         nan, 16.01013185,\n",
       "               nan, 17.16381533,         nan, 20.57190967, 19.97747051,\n",
       "       18.59188076, 17.46034335, 20.75057132, 18.80878822, 16.05881977,\n",
       "               nan,         nan, 23.5832746 , 15.30453167, 23.95158829,\n",
       "       24.14337031, 18.84610132, 19.53406381, 24.58879344, 16.27006928,\n",
       "       15.5867649 , 25.07704663,         nan, 23.03519536, 22.86665109,\n",
       "       25.80896158, 15.76055292, 20.54885631, 19.92831532, 17.31401166,\n",
       "       15.28266171, 18.82137033,         nan, 19.56848475,         nan,\n",
       "       21.1729843 , 25.41878369,         nan, 21.22087375,         nan,\n",
       "       22.2901531 ,         nan, 25.19825334, 25.41560958, 20.53729771,\n",
       "       18.58581582, 23.59277509, 21.73449059,         nan,         nan,\n",
       "       18.89135806, 25.13707302, 22.73426844, 24.45501658,         nan,\n",
       "       21.5289903 , 17.62249015, 24.21547317, 22.99572345,         nan,\n",
       "       24.78853754,         nan, 21.3867689 ,         nan, 24.41145419,\n",
       "       16.7853631 ,         nan,         nan, 21.17720508, 16.66320621,\n",
       "       22.98507212, 20.61453382, 18.51024406, 18.30858539, 19.5098194 ,\n",
       "       21.92482281, 21.79234965, 19.12460227, 24.56782244, 21.10948595,\n",
       "               nan, 18.46832425,         nan,         nan,         nan,\n",
       "       18.72059891, 25.7077927 , 23.82672592, 16.96377394, 17.54072709,\n",
       "       25.95918107, 21.67563345,         nan, 19.59421067, 21.85766971,\n",
       "               nan, 23.97000195, 25.07305866, 25.94575779,         nan,\n",
       "               nan, 19.00890436, 21.5269331 , 22.62743983, 23.41832208,\n",
       "               nan,         nan,         nan, 16.37871331, 20.94643348,\n",
       "       24.1496246 , 20.46274359, 22.30018601, 21.70105085, 19.95966839,\n",
       "               nan, 20.84145614, 19.87176858, 25.0729384 ])"
      ]
     },
     "execution_count": 90,
     "metadata": {},
     "output_type": "execute_result"
    }
   ],
   "source": [
    "b = np.clip (a,15,26) \n",
    "b[b==15]=np.NaN\n",
    "b[b==26]=np.NaN\n",
    "b"
   ]
  },
  {
   "cell_type": "code",
   "execution_count": 93,
   "metadata": {},
   "outputs": [
    {
     "data": {
      "text/plain": [
       "5035.825863805018"
      ]
     },
     "execution_count": 93,
     "metadata": {},
     "output_type": "execute_result"
    }
   ],
   "source": [
    "np.nansum(b)"
   ]
  },
  {
   "cell_type": "code",
   "execution_count": 94,
   "metadata": {},
   "outputs": [
    {
     "data": {
      "text/plain": [
       "nan"
      ]
     },
     "execution_count": 94,
     "metadata": {},
     "output_type": "execute_result"
    }
   ],
   "source": [
    "b.mean()"
   ]
  },
  {
   "cell_type": "code",
   "execution_count": 97,
   "metadata": {},
   "outputs": [
    {
     "data": {
      "text/plain": [
       "array([[5., 5., 5., 5., 5., 5., 5., 5., 5., 5.],\n",
       "       [5., 5., 5., 5., 5., 5., 5., 5., 5., 5.],\n",
       "       [5., 5., 5., 5., 5., 5., 5., 5., 5., 5.],\n",
       "       [5., 5., 5., 5., 5., 5., 5., 5., 5., 5.],\n",
       "       [5., 5., 5., 5., 5., 5., 5., 5., 5., 5.],\n",
       "       [5., 5., 5., 5., 5., 5., 5., 5., 5., 5.],\n",
       "       [5., 5., 5., 5., 5., 5., 5., 5., 5., 5.],\n",
       "       [5., 5., 5., 5., 5., 5., 5., 5., 5., 5.],\n",
       "       [5., 5., 5., 5., 5., 5., 5., 5., 5., 5.],\n",
       "       [5., 5., 5., 5., 5., 5., 5., 5., 5., 5.]])"
      ]
     },
     "execution_count": 97,
     "metadata": {},
     "output_type": "execute_result"
    }
   ],
   "source": [
    "c = np.nan_to_num (c,0.0)\n",
    "c"
   ]
  },
  {
   "cell_type": "code",
   "execution_count": 103,
   "metadata": {},
   "outputs": [
    {
     "data": {
      "text/plain": [
       "array([[5., 5., 5., 5., 5., 5., 5., 5., 5., 5.],\n",
       "       [5., 5., 5., 5., 5., 5., 5., 5., 5., 5.],\n",
       "       [5., 5., 5., 5., 5., 5., 5., 5., 5., 5.],\n",
       "       [5., 5., 5., 5., 5., 5., 5., 5., 5., 5.],\n",
       "       [5., 5., 5., 5., 5., 5., 5., 5., 5., 5.],\n",
       "       [5., 5., 5., 5., 5., 5., 5., 5., 5., 5.],\n",
       "       [5., 5., 5., 5., 5., 5., 5., 5., 5., 5.],\n",
       "       [5., 5., 5., 5., 5., 5., 5., 5., 5., 5.],\n",
       "       [5., 5., 5., 5., 5., 5., 5., 5., 5., 5.],\n",
       "       [5., 5., 5., 5., 5., 5., 5., 5., 5., 5.]])"
      ]
     },
     "execution_count": 103,
     "metadata": {},
     "output_type": "execute_result"
    }
   ],
   "source": [
    "np.savetxt('hey',c)\n",
    "txt = np.loadtxt ('hey')\n",
    "txt"
   ]
  },
  {
   "cell_type": "code",
   "execution_count": 112,
   "metadata": {},
   "outputs": [
    {
     "ename": "SyntaxError",
     "evalue": "invalid syntax (<ipython-input-112-54499c1a20cf>, line 1)",
     "output_type": "error",
     "traceback": [
      "\u001b[1;36m  File \u001b[1;32m\"<ipython-input-112-54499c1a20cf>\"\u001b[1;36m, line \u001b[1;32m1\u001b[0m\n\u001b[1;33m    0 * np.nan.\u001b[0m\n\u001b[1;37m               ^\u001b[0m\n\u001b[1;31mSyntaxError\u001b[0m\u001b[1;31m:\u001b[0m invalid syntax\n"
     ]
    }
   ],
   "source": [
    "0 * np.nan"
   ]
  },
  {
   "cell_type": "code",
   "execution_count": 115,
   "metadata": {},
   "outputs": [
    {
     "data": {
      "text/plain": [
       "False"
      ]
     },
     "execution_count": 115,
     "metadata": {},
     "output_type": "execute_result"
    }
   ],
   "source": [
    "np.nan == np.nan"
   ]
  },
  {
   "cell_type": "code",
   "execution_count": 117,
   "metadata": {},
   "outputs": [
    {
     "data": {
      "text/plain": [
       "False"
      ]
     },
     "execution_count": 117,
     "metadata": {},
     "output_type": "execute_result"
    }
   ],
   "source": [
    "np.inf > np.nan"
   ]
  },
  {
   "cell_type": "code",
   "execution_count": 119,
   "metadata": {},
   "outputs": [
    {
     "data": {
      "text/plain": [
       "nan"
      ]
     },
     "execution_count": 119,
     "metadata": {},
     "output_type": "execute_result"
    }
   ],
   "source": [
    "np.nan - np.nan"
   ]
  },
  {
   "cell_type": "code",
   "execution_count": 121,
   "metadata": {},
   "outputs": [
    {
     "data": {
      "text/plain": [
       "False"
      ]
     },
     "execution_count": 121,
     "metadata": {},
     "output_type": "execute_result"
    }
   ],
   "source": [
    "0.3 == 3 * 0.1"
   ]
  },
  {
   "cell_type": "code",
   "execution_count": 123,
   "metadata": {},
   "outputs": [
    {
     "data": {
      "text/plain": [
       "nan"
      ]
     },
     "execution_count": 123,
     "metadata": {},
     "output_type": "execute_result"
    }
   ],
   "source": [
    "np.inf * 0 "
   ]
  },
  {
   "cell_type": "code",
   "execution_count": 125,
   "metadata": {},
   "outputs": [
    {
     "name": "stdout",
     "output_type": "stream",
     "text": [
      "[[3. 3.]\n",
      " [3. 3.]\n",
      " [3. 3.]\n",
      " [3. 3.]\n",
      " [3. 3.]]\n"
     ]
    }
   ],
   "source": [
    "Z = np.dot(np.ones((5,3)), np.ones((3,2)))\n",
    "print(Z)"
   ]
  }
 ],
 "metadata": {
  "kernelspec": {
   "display_name": "Python 3",
   "language": "python",
   "name": "python3"
  },
  "language_info": {
   "codemirror_mode": {
    "name": "ipython",
    "version": 3
   },
   "file_extension": ".py",
   "mimetype": "text/x-python",
   "name": "python",
   "nbconvert_exporter": "python",
   "pygments_lexer": "ipython3",
   "version": "3.6.4"
  }
 },
 "nbformat": 4,
 "nbformat_minor": 2
}
